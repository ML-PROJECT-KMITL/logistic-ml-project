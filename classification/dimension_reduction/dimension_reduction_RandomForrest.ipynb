{
  "cells": [
    {
      "cell_type": "code",
      "execution_count": 141,
      "metadata": {
        "colab": {
          "base_uri": "https://localhost:8080/",
          "height": 89
        },
        "id": "Id0kYEy45VP8",
        "outputId": "875a0709-3164-4b32-85e6-4175f64e4c92"
      },
      "outputs": [],
      "source": [
        "import pandas as pd\n",
        "import numpy as np\n",
        "from sklearn.model_selection import train_test_split\n",
        "\n",
        "import seaborn as sns\n",
        "import matplotlib.pyplot as plt\n",
        "plt.rcParams['figure.figsize'] = [10,6]\n",
        "\n",
        "from sklearn.preprocessing import LabelEncoder\n",
        "from sklearn.preprocessing import StandardScaler, MinMaxScaler, RobustScaler, MaxAbsScaler\n",
        "from sklearn.metrics import classification_report, confusion_matrix, accuracy_score, precision_score,recall_score\n",
        "from sklearn.model_selection import GridSearchCV\n",
        "import joblib\n",
        "# Use below code to upload your kaggle.json to colab environment (you can download kaggle.json from your Profile->Account->API Token)\n",
        "# from google.colab import files\n",
        "# files.upload()"
      ]
    },
    {
      "cell_type": "code",
      "execution_count": 142,
      "metadata": {
        "colab": {
          "base_uri": "https://localhost:8080/"
        },
        "id": "6xsTZNJlVUga",
        "outputId": "49fbbadc-1837-4af0-9311-4bb0f713cb24"
      },
      "outputs": [],
      "source": [
        "# !mkdir -p ~/.kaggle  # Create the directory if not exists\n",
        "# !mv kaggle.json ~/.kaggle/  # Move the API key to the correct location\n",
        "# !chmod 600 ~/.kaggle/kaggle.json  # Secure the file\n",
        "\n",
        "# # Download the dataset\n",
        "# !kaggle datasets download -d datasetengineer/logistics-and-supply-chain-dataset --unzip"
      ]
    },
    {
      "cell_type": "code",
      "execution_count": 143,
      "metadata": {
        "colab": {
          "base_uri": "https://localhost:8080/",
          "height": 256
        },
        "id": "zdkLf4P0VZEl",
        "outputId": "3798dbbf-2e6e-4181-8c47-bce6f460dfe0"
      },
      "outputs": [
        {
          "data": {
            "text/html": [
              "<div>\n",
              "<style scoped>\n",
              "    .dataframe tbody tr th:only-of-type {\n",
              "        vertical-align: middle;\n",
              "    }\n",
              "\n",
              "    .dataframe tbody tr th {\n",
              "        vertical-align: top;\n",
              "    }\n",
              "\n",
              "    .dataframe thead th {\n",
              "        text-align: right;\n",
              "    }\n",
              "</style>\n",
              "<table border=\"1\" class=\"dataframe\">\n",
              "  <thead>\n",
              "    <tr style=\"text-align: right;\">\n",
              "      <th></th>\n",
              "      <th>fuel_consumption_rate</th>\n",
              "      <th>eta_variation_hours</th>\n",
              "      <th>traffic_congestion_level</th>\n",
              "      <th>warehouse_inventory_level</th>\n",
              "      <th>loading_unloading_time</th>\n",
              "      <th>handling_equipment_availability</th>\n",
              "      <th>order_fulfillment_status</th>\n",
              "      <th>weather_condition_severity</th>\n",
              "      <th>port_congestion_level</th>\n",
              "      <th>shipping_costs</th>\n",
              "      <th>...</th>\n",
              "      <th>iot_temperature</th>\n",
              "      <th>cargo_condition_status</th>\n",
              "      <th>route_risk_level</th>\n",
              "      <th>customs_clearance_time</th>\n",
              "      <th>driver_behavior_score</th>\n",
              "      <th>fatigue_monitoring_score</th>\n",
              "      <th>disruption_likelihood_score</th>\n",
              "      <th>delay_probability</th>\n",
              "      <th>risk_classification</th>\n",
              "      <th>delivery_time_deviation</th>\n",
              "    </tr>\n",
              "  </thead>\n",
              "  <tbody>\n",
              "    <tr>\n",
              "      <th>0</th>\n",
              "      <td>5.136512</td>\n",
              "      <td>4.998009</td>\n",
              "      <td>5.927586</td>\n",
              "      <td>985.716862</td>\n",
              "      <td>4.951392</td>\n",
              "      <td>0.481294</td>\n",
              "      <td>0.761166</td>\n",
              "      <td>0.359066</td>\n",
              "      <td>4.289160</td>\n",
              "      <td>456.503853</td>\n",
              "      <td>...</td>\n",
              "      <td>0.574400</td>\n",
              "      <td>0.777263</td>\n",
              "      <td>1.182116</td>\n",
              "      <td>0.502006</td>\n",
              "      <td>0.033843</td>\n",
              "      <td>0.978599</td>\n",
              "      <td>0.506152</td>\n",
              "      <td>0.885291</td>\n",
              "      <td>Moderate Risk</td>\n",
              "      <td>9.110682</td>\n",
              "    </tr>\n",
              "    <tr>\n",
              "      <th>1</th>\n",
              "      <td>5.101512</td>\n",
              "      <td>0.984929</td>\n",
              "      <td>1.591992</td>\n",
              "      <td>396.700206</td>\n",
              "      <td>1.030379</td>\n",
              "      <td>0.620780</td>\n",
              "      <td>0.196594</td>\n",
              "      <td>0.230660</td>\n",
              "      <td>7.018373</td>\n",
              "      <td>640.408205</td>\n",
              "      <td>...</td>\n",
              "      <td>-9.753493</td>\n",
              "      <td>0.091839</td>\n",
              "      <td>9.611988</td>\n",
              "      <td>0.966774</td>\n",
              "      <td>0.201725</td>\n",
              "      <td>0.918586</td>\n",
              "      <td>0.980784</td>\n",
              "      <td>0.544178</td>\n",
              "      <td>High Risk</td>\n",
              "      <td>8.175281</td>\n",
              "    </tr>\n",
              "    <tr>\n",
              "      <th>2</th>\n",
              "      <td>5.090803</td>\n",
              "      <td>4.972665</td>\n",
              "      <td>8.787765</td>\n",
              "      <td>832.408935</td>\n",
              "      <td>4.220229</td>\n",
              "      <td>0.810933</td>\n",
              "      <td>0.152742</td>\n",
              "      <td>0.027210</td>\n",
              "      <td>9.605064</td>\n",
              "      <td>155.749314</td>\n",
              "      <td>...</td>\n",
              "      <td>-6.491034</td>\n",
              "      <td>0.253529</td>\n",
              "      <td>6.570431</td>\n",
              "      <td>0.945627</td>\n",
              "      <td>0.264045</td>\n",
              "      <td>0.394215</td>\n",
              "      <td>0.998633</td>\n",
              "      <td>0.803322</td>\n",
              "      <td>High Risk</td>\n",
              "      <td>1.283594</td>\n",
              "    </tr>\n",
              "    <tr>\n",
              "      <th>3</th>\n",
              "      <td>8.219558</td>\n",
              "      <td>3.095064</td>\n",
              "      <td>0.045257</td>\n",
              "      <td>0.573283</td>\n",
              "      <td>0.530186</td>\n",
              "      <td>0.008525</td>\n",
              "      <td>0.811885</td>\n",
              "      <td>0.616619</td>\n",
              "      <td>8.899616</td>\n",
              "      <td>104.317961</td>\n",
              "      <td>...</td>\n",
              "      <td>-0.151276</td>\n",
              "      <td>0.877576</td>\n",
              "      <td>0.548952</td>\n",
              "      <td>4.674035</td>\n",
              "      <td>0.362885</td>\n",
              "      <td>0.905444</td>\n",
              "      <td>0.993320</td>\n",
              "      <td>0.025977</td>\n",
              "      <td>High Risk</td>\n",
              "      <td>9.304897</td>\n",
              "    </tr>\n",
              "    <tr>\n",
              "      <th>4</th>\n",
              "      <td>5.000075</td>\n",
              "      <td>3.216077</td>\n",
              "      <td>8.004851</td>\n",
              "      <td>914.925067</td>\n",
              "      <td>3.620890</td>\n",
              "      <td>0.020083</td>\n",
              "      <td>0.053659</td>\n",
              "      <td>0.952385</td>\n",
              "      <td>0.061760</td>\n",
              "      <td>977.222528</td>\n",
              "      <td>...</td>\n",
              "      <td>2.429448</td>\n",
              "      <td>0.262081</td>\n",
              "      <td>8.861443</td>\n",
              "      <td>3.445429</td>\n",
              "      <td>0.016957</td>\n",
              "      <td>0.258702</td>\n",
              "      <td>0.912433</td>\n",
              "      <td>0.991122</td>\n",
              "      <td>High Risk</td>\n",
              "      <td>7.752484</td>\n",
              "    </tr>\n",
              "  </tbody>\n",
              "</table>\n",
              "<p>5 rows × 23 columns</p>\n",
              "</div>"
            ],
            "text/plain": [
              "   fuel_consumption_rate  eta_variation_hours  traffic_congestion_level  \\\n",
              "0               5.136512             4.998009                  5.927586   \n",
              "1               5.101512             0.984929                  1.591992   \n",
              "2               5.090803             4.972665                  8.787765   \n",
              "3               8.219558             3.095064                  0.045257   \n",
              "4               5.000075             3.216077                  8.004851   \n",
              "\n",
              "   warehouse_inventory_level  loading_unloading_time  \\\n",
              "0                 985.716862                4.951392   \n",
              "1                 396.700206                1.030379   \n",
              "2                 832.408935                4.220229   \n",
              "3                   0.573283                0.530186   \n",
              "4                 914.925067                3.620890   \n",
              "\n",
              "   handling_equipment_availability  order_fulfillment_status  \\\n",
              "0                         0.481294                  0.761166   \n",
              "1                         0.620780                  0.196594   \n",
              "2                         0.810933                  0.152742   \n",
              "3                         0.008525                  0.811885   \n",
              "4                         0.020083                  0.053659   \n",
              "\n",
              "   weather_condition_severity  port_congestion_level  shipping_costs  ...  \\\n",
              "0                    0.359066               4.289160      456.503853  ...   \n",
              "1                    0.230660               7.018373      640.408205  ...   \n",
              "2                    0.027210               9.605064      155.749314  ...   \n",
              "3                    0.616619               8.899616      104.317961  ...   \n",
              "4                    0.952385               0.061760      977.222528  ...   \n",
              "\n",
              "   iot_temperature  cargo_condition_status  route_risk_level  \\\n",
              "0         0.574400                0.777263          1.182116   \n",
              "1        -9.753493                0.091839          9.611988   \n",
              "2        -6.491034                0.253529          6.570431   \n",
              "3        -0.151276                0.877576          0.548952   \n",
              "4         2.429448                0.262081          8.861443   \n",
              "\n",
              "   customs_clearance_time  driver_behavior_score  fatigue_monitoring_score  \\\n",
              "0                0.502006               0.033843                  0.978599   \n",
              "1                0.966774               0.201725                  0.918586   \n",
              "2                0.945627               0.264045                  0.394215   \n",
              "3                4.674035               0.362885                  0.905444   \n",
              "4                3.445429               0.016957                  0.258702   \n",
              "\n",
              "   disruption_likelihood_score  delay_probability  risk_classification  \\\n",
              "0                     0.506152           0.885291        Moderate Risk   \n",
              "1                     0.980784           0.544178            High Risk   \n",
              "2                     0.998633           0.803322            High Risk   \n",
              "3                     0.993320           0.025977            High Risk   \n",
              "4                     0.912433           0.991122            High Risk   \n",
              "\n",
              "   delivery_time_deviation  \n",
              "0                 9.110682  \n",
              "1                 8.175281  \n",
              "2                 1.283594  \n",
              "3                 9.304897  \n",
              "4                 7.752484  \n",
              "\n",
              "[5 rows x 23 columns]"
            ]
          },
          "execution_count": 143,
          "metadata": {},
          "output_type": "execute_result"
        }
      ],
      "source": [
        "# df = pd.read_csv('dynamic_supply_chain_logistics_dataset.csv')\n",
        "file_path = \"../../data/dynamic_supply_chain_logistics_dataset.csv\"\n",
        "df = pd.read_csv(file_path)\n",
        "df.drop(columns=['timestamp', 'vehicle_gps_latitude', 'vehicle_gps_longitude'], inplace=True)\n",
        "df.head()"
      ]
    },
    {
      "cell_type": "code",
      "execution_count": 144,
      "metadata": {
        "colab": {
          "base_uri": "https://localhost:8080/",
          "height": 99
        },
        "id": "On_CSq0MVd00",
        "outputId": "ad2a38f3-304d-431f-f949-7dfbe7dc737d"
      },
      "outputs": [
        {
          "data": {
            "text/html": [
              "<div>\n",
              "<style scoped>\n",
              "    .dataframe tbody tr th:only-of-type {\n",
              "        vertical-align: middle;\n",
              "    }\n",
              "\n",
              "    .dataframe tbody tr th {\n",
              "        vertical-align: top;\n",
              "    }\n",
              "\n",
              "    .dataframe thead th {\n",
              "        text-align: right;\n",
              "    }\n",
              "</style>\n",
              "<table border=\"1\" class=\"dataframe\">\n",
              "  <thead>\n",
              "    <tr style=\"text-align: right;\">\n",
              "      <th></th>\n",
              "      <th>fuel_consumption_rate</th>\n",
              "      <th>eta_variation_hours</th>\n",
              "      <th>traffic_congestion_level</th>\n",
              "      <th>warehouse_inventory_level</th>\n",
              "      <th>loading_unloading_time</th>\n",
              "      <th>handling_equipment_availability</th>\n",
              "      <th>order_fulfillment_status</th>\n",
              "      <th>weather_condition_severity</th>\n",
              "      <th>port_congestion_level</th>\n",
              "      <th>shipping_costs</th>\n",
              "      <th>...</th>\n",
              "      <th>iot_temperature</th>\n",
              "      <th>cargo_condition_status</th>\n",
              "      <th>route_risk_level</th>\n",
              "      <th>customs_clearance_time</th>\n",
              "      <th>driver_behavior_score</th>\n",
              "      <th>fatigue_monitoring_score</th>\n",
              "      <th>disruption_likelihood_score</th>\n",
              "      <th>delay_probability</th>\n",
              "      <th>risk_classification</th>\n",
              "      <th>delivery_time_deviation</th>\n",
              "    </tr>\n",
              "  </thead>\n",
              "  <tbody>\n",
              "  </tbody>\n",
              "</table>\n",
              "<p>0 rows × 23 columns</p>\n",
              "</div>"
            ],
            "text/plain": [
              "Empty DataFrame\n",
              "Columns: [fuel_consumption_rate, eta_variation_hours, traffic_congestion_level, warehouse_inventory_level, loading_unloading_time, handling_equipment_availability, order_fulfillment_status, weather_condition_severity, port_congestion_level, shipping_costs, supplier_reliability_score, lead_time_days, historical_demand, iot_temperature, cargo_condition_status, route_risk_level, customs_clearance_time, driver_behavior_score, fatigue_monitoring_score, disruption_likelihood_score, delay_probability, risk_classification, delivery_time_deviation]\n",
              "Index: []\n",
              "\n",
              "[0 rows x 23 columns]"
            ]
          },
          "execution_count": 144,
          "metadata": {},
          "output_type": "execute_result"
        }
      ],
      "source": [
        "# Check for any duplicate rows in the dataset\n",
        "df.loc[df.duplicated()]"
      ]
    },
    {
      "cell_type": "code",
      "execution_count": 145,
      "metadata": {
        "colab": {
          "base_uri": "https://localhost:8080/",
          "height": 805
        },
        "id": "XS-_RhFSVgif",
        "outputId": "716829fa-0fb0-42b4-cb0f-06e9ec765814"
      },
      "outputs": [
        {
          "data": {
            "text/plain": [
              "fuel_consumption_rate              0\n",
              "eta_variation_hours                0\n",
              "traffic_congestion_level           0\n",
              "warehouse_inventory_level          0\n",
              "loading_unloading_time             0\n",
              "handling_equipment_availability    0\n",
              "order_fulfillment_status           0\n",
              "weather_condition_severity         0\n",
              "port_congestion_level              0\n",
              "shipping_costs                     0\n",
              "supplier_reliability_score         0\n",
              "lead_time_days                     0\n",
              "historical_demand                  0\n",
              "iot_temperature                    0\n",
              "cargo_condition_status             0\n",
              "route_risk_level                   0\n",
              "customs_clearance_time             0\n",
              "driver_behavior_score              0\n",
              "fatigue_monitoring_score           0\n",
              "disruption_likelihood_score        0\n",
              "delay_probability                  0\n",
              "risk_classification                0\n",
              "delivery_time_deviation            0\n",
              "dtype: int64"
            ]
          },
          "execution_count": 145,
          "metadata": {},
          "output_type": "execute_result"
        }
      ],
      "source": [
        "# Check for null values\n",
        "df.isna().sum()"
      ]
    },
    {
      "cell_type": "code",
      "execution_count": 146,
      "metadata": {
        "colab": {
          "base_uri": "https://localhost:8080/"
        },
        "id": "slizmPBCVlD1",
        "outputId": "45422393-1576-4044-b80f-7b4780058301"
      },
      "outputs": [
        {
          "name": "stdout",
          "output_type": "stream",
          "text": [
            "['fuel_consumption_rate', 'eta_variation_hours', 'traffic_congestion_level', 'warehouse_inventory_level', 'loading_unloading_time', 'handling_equipment_availability', 'order_fulfillment_status', 'weather_condition_severity', 'port_congestion_level', 'shipping_costs', 'supplier_reliability_score', 'lead_time_days', 'historical_demand', 'iot_temperature', 'cargo_condition_status', 'route_risk_level', 'customs_clearance_time', 'driver_behavior_score', 'fatigue_monitoring_score', 'disruption_likelihood_score', 'delay_probability', 'delivery_time_deviation']\n"
          ]
        }
      ],
      "source": [
        "numerical_list = [x for x in df.columns if df[x].dtype in ('int64','float64')]\n",
        "print(numerical_list)"
      ]
    },
    {
      "cell_type": "code",
      "execution_count": 147,
      "metadata": {
        "colab": {
          "base_uri": "https://localhost:8080/",
          "height": 325
        },
        "id": "O0OxwDXYVn03",
        "outputId": "83c4df13-7421-49b5-8739-ddd11c6f98b7"
      },
      "outputs": [
        {
          "name": "stdout",
          "output_type": "stream",
          "text": [
            "\n",
            "\u001b[1mInference:\u001b[0m\n",
            "Before removal of outliers, The dataset had 32065 samples.\n",
            "After removal of outliers, The dataset now has 25245 samples.\n"
          ]
        },
        {
          "data": {
            "text/html": [
              "<div>\n",
              "<style scoped>\n",
              "    .dataframe tbody tr th:only-of-type {\n",
              "        vertical-align: middle;\n",
              "    }\n",
              "\n",
              "    .dataframe tbody tr th {\n",
              "        vertical-align: top;\n",
              "    }\n",
              "\n",
              "    .dataframe thead th {\n",
              "        text-align: right;\n",
              "    }\n",
              "</style>\n",
              "<table border=\"1\" class=\"dataframe\">\n",
              "  <thead>\n",
              "    <tr style=\"text-align: right;\">\n",
              "      <th></th>\n",
              "      <th>fuel_consumption_rate</th>\n",
              "      <th>eta_variation_hours</th>\n",
              "      <th>traffic_congestion_level</th>\n",
              "      <th>warehouse_inventory_level</th>\n",
              "      <th>loading_unloading_time</th>\n",
              "      <th>handling_equipment_availability</th>\n",
              "      <th>order_fulfillment_status</th>\n",
              "      <th>weather_condition_severity</th>\n",
              "      <th>port_congestion_level</th>\n",
              "      <th>shipping_costs</th>\n",
              "      <th>...</th>\n",
              "      <th>iot_temperature</th>\n",
              "      <th>cargo_condition_status</th>\n",
              "      <th>route_risk_level</th>\n",
              "      <th>customs_clearance_time</th>\n",
              "      <th>driver_behavior_score</th>\n",
              "      <th>fatigue_monitoring_score</th>\n",
              "      <th>disruption_likelihood_score</th>\n",
              "      <th>delay_probability</th>\n",
              "      <th>risk_classification</th>\n",
              "      <th>delivery_time_deviation</th>\n",
              "    </tr>\n",
              "  </thead>\n",
              "  <tbody>\n",
              "    <tr>\n",
              "      <th>0</th>\n",
              "      <td>5.136512</td>\n",
              "      <td>4.998009</td>\n",
              "      <td>5.927586</td>\n",
              "      <td>985.716862</td>\n",
              "      <td>4.951392</td>\n",
              "      <td>0.481294</td>\n",
              "      <td>0.761166</td>\n",
              "      <td>0.359066</td>\n",
              "      <td>4.289160</td>\n",
              "      <td>456.503853</td>\n",
              "      <td>...</td>\n",
              "      <td>0.574400</td>\n",
              "      <td>0.777263</td>\n",
              "      <td>1.182116</td>\n",
              "      <td>0.502006</td>\n",
              "      <td>0.033843</td>\n",
              "      <td>0.978599</td>\n",
              "      <td>0.506152</td>\n",
              "      <td>0.885291</td>\n",
              "      <td>Moderate Risk</td>\n",
              "      <td>9.110682</td>\n",
              "    </tr>\n",
              "    <tr>\n",
              "      <th>1</th>\n",
              "      <td>5.101512</td>\n",
              "      <td>0.984929</td>\n",
              "      <td>1.591992</td>\n",
              "      <td>396.700206</td>\n",
              "      <td>1.030379</td>\n",
              "      <td>0.620780</td>\n",
              "      <td>0.196594</td>\n",
              "      <td>0.230660</td>\n",
              "      <td>7.018373</td>\n",
              "      <td>640.408205</td>\n",
              "      <td>...</td>\n",
              "      <td>-9.753493</td>\n",
              "      <td>0.091839</td>\n",
              "      <td>9.611988</td>\n",
              "      <td>0.966774</td>\n",
              "      <td>0.201725</td>\n",
              "      <td>0.918586</td>\n",
              "      <td>0.980784</td>\n",
              "      <td>0.544178</td>\n",
              "      <td>High Risk</td>\n",
              "      <td>8.175281</td>\n",
              "    </tr>\n",
              "    <tr>\n",
              "      <th>2</th>\n",
              "      <td>5.090803</td>\n",
              "      <td>4.972665</td>\n",
              "      <td>8.787765</td>\n",
              "      <td>832.408935</td>\n",
              "      <td>4.220229</td>\n",
              "      <td>0.810933</td>\n",
              "      <td>0.152742</td>\n",
              "      <td>0.027210</td>\n",
              "      <td>9.605064</td>\n",
              "      <td>155.749314</td>\n",
              "      <td>...</td>\n",
              "      <td>-6.491034</td>\n",
              "      <td>0.253529</td>\n",
              "      <td>6.570431</td>\n",
              "      <td>0.945627</td>\n",
              "      <td>0.264045</td>\n",
              "      <td>0.394215</td>\n",
              "      <td>0.998633</td>\n",
              "      <td>0.803322</td>\n",
              "      <td>High Risk</td>\n",
              "      <td>1.283594</td>\n",
              "    </tr>\n",
              "    <tr>\n",
              "      <th>3</th>\n",
              "      <td>8.219558</td>\n",
              "      <td>3.095064</td>\n",
              "      <td>0.045257</td>\n",
              "      <td>0.573283</td>\n",
              "      <td>0.530186</td>\n",
              "      <td>0.008525</td>\n",
              "      <td>0.811885</td>\n",
              "      <td>0.616619</td>\n",
              "      <td>8.899616</td>\n",
              "      <td>104.317961</td>\n",
              "      <td>...</td>\n",
              "      <td>-0.151276</td>\n",
              "      <td>0.877576</td>\n",
              "      <td>0.548952</td>\n",
              "      <td>4.674035</td>\n",
              "      <td>0.362885</td>\n",
              "      <td>0.905444</td>\n",
              "      <td>0.993320</td>\n",
              "      <td>0.025977</td>\n",
              "      <td>High Risk</td>\n",
              "      <td>9.304897</td>\n",
              "    </tr>\n",
              "    <tr>\n",
              "      <th>4</th>\n",
              "      <td>5.000075</td>\n",
              "      <td>3.216077</td>\n",
              "      <td>8.004851</td>\n",
              "      <td>914.925067</td>\n",
              "      <td>3.620890</td>\n",
              "      <td>0.020083</td>\n",
              "      <td>0.053659</td>\n",
              "      <td>0.952385</td>\n",
              "      <td>0.061760</td>\n",
              "      <td>977.222528</td>\n",
              "      <td>...</td>\n",
              "      <td>2.429448</td>\n",
              "      <td>0.262081</td>\n",
              "      <td>8.861443</td>\n",
              "      <td>3.445429</td>\n",
              "      <td>0.016957</td>\n",
              "      <td>0.258702</td>\n",
              "      <td>0.912433</td>\n",
              "      <td>0.991122</td>\n",
              "      <td>High Risk</td>\n",
              "      <td>7.752484</td>\n",
              "    </tr>\n",
              "  </tbody>\n",
              "</table>\n",
              "<p>5 rows × 23 columns</p>\n",
              "</div>"
            ],
            "text/plain": [
              "   fuel_consumption_rate  eta_variation_hours  traffic_congestion_level  \\\n",
              "0               5.136512             4.998009                  5.927586   \n",
              "1               5.101512             0.984929                  1.591992   \n",
              "2               5.090803             4.972665                  8.787765   \n",
              "3               8.219558             3.095064                  0.045257   \n",
              "4               5.000075             3.216077                  8.004851   \n",
              "\n",
              "   warehouse_inventory_level  loading_unloading_time  \\\n",
              "0                 985.716862                4.951392   \n",
              "1                 396.700206                1.030379   \n",
              "2                 832.408935                4.220229   \n",
              "3                   0.573283                0.530186   \n",
              "4                 914.925067                3.620890   \n",
              "\n",
              "   handling_equipment_availability  order_fulfillment_status  \\\n",
              "0                         0.481294                  0.761166   \n",
              "1                         0.620780                  0.196594   \n",
              "2                         0.810933                  0.152742   \n",
              "3                         0.008525                  0.811885   \n",
              "4                         0.020083                  0.053659   \n",
              "\n",
              "   weather_condition_severity  port_congestion_level  shipping_costs  ...  \\\n",
              "0                    0.359066               4.289160      456.503853  ...   \n",
              "1                    0.230660               7.018373      640.408205  ...   \n",
              "2                    0.027210               9.605064      155.749314  ...   \n",
              "3                    0.616619               8.899616      104.317961  ...   \n",
              "4                    0.952385               0.061760      977.222528  ...   \n",
              "\n",
              "   iot_temperature  cargo_condition_status  route_risk_level  \\\n",
              "0         0.574400                0.777263          1.182116   \n",
              "1        -9.753493                0.091839          9.611988   \n",
              "2        -6.491034                0.253529          6.570431   \n",
              "3        -0.151276                0.877576          0.548952   \n",
              "4         2.429448                0.262081          8.861443   \n",
              "\n",
              "   customs_clearance_time  driver_behavior_score  fatigue_monitoring_score  \\\n",
              "0                0.502006               0.033843                  0.978599   \n",
              "1                0.966774               0.201725                  0.918586   \n",
              "2                0.945627               0.264045                  0.394215   \n",
              "3                4.674035               0.362885                  0.905444   \n",
              "4                3.445429               0.016957                  0.258702   \n",
              "\n",
              "   disruption_likelihood_score  delay_probability  risk_classification  \\\n",
              "0                     0.506152           0.885291        Moderate Risk   \n",
              "1                     0.980784           0.544178            High Risk   \n",
              "2                     0.998633           0.803322            High Risk   \n",
              "3                     0.993320           0.025977            High Risk   \n",
              "4                     0.912433           0.991122            High Risk   \n",
              "\n",
              "   delivery_time_deviation  \n",
              "0                 9.110682  \n",
              "1                 8.175281  \n",
              "2                 1.283594  \n",
              "3                 9.304897  \n",
              "4                 7.752484  \n",
              "\n",
              "[5 rows x 23 columns]"
            ]
          },
          "execution_count": 147,
          "metadata": {},
          "output_type": "execute_result"
        }
      ],
      "source": [
        "#Removal of outlier:\n",
        "\n",
        "df1 = df.copy()\n",
        "\n",
        "for i in numerical_list:\n",
        "    Q1 = df1[i].quantile(0.25)\n",
        "    Q3 = df1[i].quantile(0.75)\n",
        "    IQR = Q3 - Q1\n",
        "    df1 = df1[df1[i] <= (Q3+(1.5*IQR))]\n",
        "    df1 = df1[df1[i] >= (Q1-(1.5*IQR))]\n",
        "    df1 = df1.reset_index(drop=True)\n",
        "# display(df1.head())\n",
        "print('\\n\\033[1mInference:\\033[0m\\nBefore removal of outliers, The dataset had {} samples.'.format(df.shape[0]))\n",
        "print('After removal of outliers, The dataset now has {} samples.'.format(df1.shape[0]))\n",
        "df = df1.copy()\n",
        "df.head()"
      ]
    },
    {
      "cell_type": "code",
      "execution_count": 148,
      "metadata": {},
      "outputs": [
        {
          "data": {
            "text/plain": [
              "risk_classification\n",
              "High Risk        20451\n",
              "Moderate Risk     4277\n",
              "Low Risk           517\n",
              "Name: count, dtype: int64"
            ]
          },
          "execution_count": 148,
          "metadata": {},
          "output_type": "execute_result"
        }
      ],
      "source": [
        "df['risk_classification'].value_counts()"
      ]
    },
    {
      "cell_type": "code",
      "execution_count": null,
      "metadata": {
        "id": "VvZ4SCXjVsq8"
      },
      "outputs": [
        {
          "data": {
            "text/plain": [
              "risk_classification\n",
              "0    20451\n",
              "2     4277\n",
              "1      517\n",
              "Name: count, dtype: int64"
            ]
          },
          "execution_count": 149,
          "metadata": {},
          "output_type": "execute_result"
        }
      ],
      "source": [
        "# Label encoding\n",
        "label_encoder = LabelEncoder()\n",
        "df['risk_classification'] = label_encoder.fit_transform(df['risk_classification'])\n",
        "df['risk_classification'].value_counts()"
      ]
    },
    {
      "cell_type": "code",
      "execution_count": 150,
      "metadata": {
        "colab": {
          "base_uri": "https://localhost:8080/",
          "height": 210
        },
        "id": "zFiDGZaCVzjM",
        "outputId": "5232d80a-1c86-4e42-eb2d-6219db04665c"
      },
      "outputs": [
        {
          "data": {
            "text/plain": [
              "risk_classification\n",
              "0    20451\n",
              "2     4277\n",
              "1      517\n",
              "Name: count, dtype: int64"
            ]
          },
          "execution_count": 150,
          "metadata": {},
          "output_type": "execute_result"
        }
      ],
      "source": [
        "# target class are highly imbalanced\n",
        "df['risk_classification'].value_counts()"
      ]
    },
    {
      "cell_type": "code",
      "execution_count": 151,
      "metadata": {
        "colab": {
          "base_uri": "https://localhost:8080/",
          "height": 521
        },
        "id": "AjP4u-vQV1GD",
        "outputId": "705d76cd-eda9-43d6-8bab-11b8bf8d2ce5"
      },
      "outputs": [
        {
          "data": {
            "image/png": "[encoded data removed]",
            "text/plain": [
              "<Figure size 1000x600 with 1 Axes>"
            ]
          },
          "metadata": {},
          "output_type": "display_data"
        }
      ],
      "source": [
        "# solve imbalnce class\n",
        "\n",
        "#Random Oversampling\n",
        "# from imblearn.over_sampling import RandomOverSampler\n",
        "\n",
        "# ros = RandomOverSampler(sampling_strategy=\"not majority\") # String\n",
        "# X = df.drop(['risk_classification'], axis=1)\n",
        "# Y = df['risk_classification']\n",
        "# X, Y = ros.fit_resample(X, Y)\n",
        "\n",
        "# ------------------------------------------------------------\n",
        "\n",
        "# Apply SMOTE (Synthetic Minority Over-sampling)\n",
        "from imblearn.over_sampling import SMOTE\n",
        "X = df.drop(columns=[\"risk_classification\"])  # Features\n",
        "Y = df[\"risk_classification\"]  # Target\n",
        "smote = SMOTE(sampling_strategy=\"auto\", random_state=42)\n",
        "X, Y = smote.fit_resample(X, Y)\n",
        "\n",
        "ax = Y.value_counts().plot.pie(autopct='%.2f')\n",
        "_ = ax.set_title(\"Over-sampling\")"
      ]
    },
    {
      "cell_type": "code",
      "execution_count": 152,
      "metadata": {
        "colab": {
          "base_uri": "https://localhost:8080/",
          "height": 210
        },
        "id": "cvosHD4yV5g4",
        "outputId": "18ef3a47-029b-4fe9-9fc2-69e46515d47a"
      },
      "outputs": [
        {
          "data": {
            "text/plain": [
              "risk_classification\n",
              "2    20451\n",
              "0    20451\n",
              "1    20451\n",
              "Name: count, dtype: int64"
            ]
          },
          "execution_count": 152,
          "metadata": {},
          "output_type": "execute_result"
        }
      ],
      "source": [
        "# after solve imbalnce class\n",
        "Y.value_counts()"
      ]
    },
    {
      "cell_type": "code",
      "execution_count": 153,
      "metadata": {
        "colab": {
          "base_uri": "https://localhost:8080/"
        },
        "id": "RefNyH7KWxfD",
        "outputId": "e711050b-3c24-4f75-800a-27825aadd3df"
      },
      "outputs": [
        {
          "data": {
            "text/plain": [
              "array([0.0354675 , 0.03285519, 0.0264211 , 0.02366847, 0.02880101,\n",
              "       0.02967419, 0.03861605, 0.02840366, 0.03524895, 0.02091676,\n",
              "       0.03120255, 0.03495864, 0.04906607, 0.03275625, 0.03740717,\n",
              "       0.02846598, 0.0259958 , 0.03713994, 0.03534458, 1.09861532,\n",
              "       0.03247776, 0.03815532])"
            ]
          },
          "execution_count": 153,
          "metadata": {},
          "output_type": "execute_result"
        }
      ],
      "source": [
        "# Split the data\n",
        "from sklearn.model_selection import train_test_split\n",
        "X_train,X_test,y_train,y_test = train_test_split(X,Y,test_size = 0.25,random_state = 42)\n",
        "\n",
        "#  Select Features Using Information Gain For Classification In ML\n",
        "\n",
        "from sklearn.feature_selection import mutual_info_classif\n",
        "# determine the mutual information\n",
        "mutual_info = mutual_info_classif(X_train, y_train)\n",
        "mutual_info"
      ]
    },
    {
      "cell_type": "code",
      "execution_count": 154,
      "metadata": {
        "colab": {
          "base_uri": "https://localhost:8080/",
          "height": 774
        },
        "id": "caKpqYuRXD6H",
        "outputId": "84d9c8cd-3ec4-431f-df2d-7ff5eb4eb3a6"
      },
      "outputs": [
        {
          "data": {
            "text/plain": [
              "disruption_likelihood_score        1.098615\n",
              "historical_demand                  0.049066\n",
              "order_fulfillment_status           0.038616\n",
              "delivery_time_deviation            0.038155\n",
              "cargo_condition_status             0.037407\n",
              "driver_behavior_score              0.037140\n",
              "fuel_consumption_rate              0.035468\n",
              "fatigue_monitoring_score           0.035345\n",
              "port_congestion_level              0.035249\n",
              "lead_time_days                     0.034959\n",
              "eta_variation_hours                0.032855\n",
              "iot_temperature                    0.032756\n",
              "delay_probability                  0.032478\n",
              "supplier_reliability_score         0.031203\n",
              "handling_equipment_availability    0.029674\n",
              "loading_unloading_time             0.028801\n",
              "route_risk_level                   0.028466\n",
              "weather_condition_severity         0.028404\n",
              "traffic_congestion_level           0.026421\n",
              "customs_clearance_time             0.025996\n",
              "warehouse_inventory_level          0.023668\n",
              "shipping_costs                     0.020917\n",
              "dtype: float64"
            ]
          },
          "execution_count": 154,
          "metadata": {},
          "output_type": "execute_result"
        }
      ],
      "source": [
        "mutual_info = pd.Series(mutual_info)\n",
        "mutual_info.index = X_train.columns\n",
        "mutual_info.sort_values(ascending=False)"
      ]
    },
    {
      "cell_type": "code",
      "execution_count": 155,
      "metadata": {
        "colab": {
          "base_uri": "https://localhost:8080/",
          "height": 905
        },
        "id": "8Ngd47BWXE62",
        "outputId": "657eb5a4-4c93-4077-b122-c629d05323f9"
      },
      "outputs": [
        {
          "data": {
            "text/plain": [
              "<Axes: >"
            ]
          },
          "execution_count": 155,
          "metadata": {},
          "output_type": "execute_result"
        },
        {
          "data": {
            "image/png": "[encoded data removed]",
            "text/plain": [
              "<Figure size 2000x800 with 1 Axes>"
            ]
          },
          "metadata": {},
          "output_type": "display_data"
        }
      ],
      "source": [
        "#let's plot the ordered mutual_info values per feature\n",
        "mutual_info.sort_values(ascending=False).plot.bar(figsize=(20, 8))"
      ]
    },
    {
      "cell_type": "code",
      "execution_count": 156,
      "metadata": {
        "colab": {
          "base_uri": "https://localhost:8080/"
        },
        "id": "YZY_5eUbXKwq",
        "outputId": "2386018e-55f4-4d63-dedc-9949eb50cce4"
      },
      "outputs": [
        {
          "name": "stdout",
          "output_type": "stream",
          "text": [
            "Top 5 Feature: Index(['order_fulfillment_status', 'historical_demand',\n",
            "       'cargo_condition_status', 'disruption_likelihood_score',\n",
            "       'delivery_time_deviation'],\n",
            "      dtype='object')\n"
          ]
        }
      ],
      "source": [
        "from sklearn.feature_selection import SelectKBest\n",
        "\n",
        "#No we Will select the  top 5 important features\n",
        "sel_five_cols = SelectKBest(mutual_info_classif, k=5)\n",
        "sel_five_cols.fit(X_train, y_train)\n",
        "selected_feature = X_train.columns[sel_five_cols.get_support()]\n",
        "print(f\"Top 5 Feature: {selected_feature}\")"
      ]
    },
    {
      "cell_type": "code",
      "execution_count": 157,
      "metadata": {
        "colab": {
          "base_uri": "https://localhost:8080/",
          "height": 424
        },
        "id": "owtwmTrsXOgX",
        "outputId": "74fa3f84-bc66-4a54-cdc5-94c83646ab7e"
      },
      "outputs": [
        {
          "data": {
            "text/html": [
              "<div>\n",
              "<style scoped>\n",
              "    .dataframe tbody tr th:only-of-type {\n",
              "        vertical-align: middle;\n",
              "    }\n",
              "\n",
              "    .dataframe tbody tr th {\n",
              "        vertical-align: top;\n",
              "    }\n",
              "\n",
              "    .dataframe thead th {\n",
              "        text-align: right;\n",
              "    }\n",
              "</style>\n",
              "<table border=\"1\" class=\"dataframe\">\n",
              "  <thead>\n",
              "    <tr style=\"text-align: right;\">\n",
              "      <th></th>\n",
              "      <th>order_fulfillment_status</th>\n",
              "      <th>historical_demand</th>\n",
              "      <th>cargo_condition_status</th>\n",
              "      <th>disruption_likelihood_score</th>\n",
              "      <th>delivery_time_deviation</th>\n",
              "    </tr>\n",
              "  </thead>\n",
              "  <tbody>\n",
              "    <tr>\n",
              "      <th>24481</th>\n",
              "      <td>0.882777</td>\n",
              "      <td>7205.246476</td>\n",
              "      <td>0.035134</td>\n",
              "      <td>1.000000</td>\n",
              "      <td>2.348545</td>\n",
              "    </tr>\n",
              "    <tr>\n",
              "      <th>58434</th>\n",
              "      <td>0.247370</td>\n",
              "      <td>7995.285807</td>\n",
              "      <td>0.594477</td>\n",
              "      <td>0.562096</td>\n",
              "      <td>8.768822</td>\n",
              "    </tr>\n",
              "    <tr>\n",
              "      <th>22492</th>\n",
              "      <td>0.756477</td>\n",
              "      <td>9932.483769</td>\n",
              "      <td>0.477842</td>\n",
              "      <td>0.776728</td>\n",
              "      <td>9.828261</td>\n",
              "    </tr>\n",
              "    <tr>\n",
              "      <th>39689</th>\n",
              "      <td>0.318124</td>\n",
              "      <td>9957.979009</td>\n",
              "      <td>0.194927</td>\n",
              "      <td>0.268893</td>\n",
              "      <td>7.516259</td>\n",
              "    </tr>\n",
              "    <tr>\n",
              "      <th>2888</th>\n",
              "      <td>0.916517</td>\n",
              "      <td>2104.904816</td>\n",
              "      <td>0.722561</td>\n",
              "      <td>0.999998</td>\n",
              "      <td>1.697481</td>\n",
              "    </tr>\n",
              "    <tr>\n",
              "      <th>...</th>\n",
              "      <td>...</td>\n",
              "      <td>...</td>\n",
              "      <td>...</td>\n",
              "      <td>...</td>\n",
              "      <td>...</td>\n",
              "    </tr>\n",
              "    <tr>\n",
              "      <th>54343</th>\n",
              "      <td>0.461909</td>\n",
              "      <td>9966.174332</td>\n",
              "      <td>0.076690</td>\n",
              "      <td>0.487871</td>\n",
              "      <td>6.648762</td>\n",
              "    </tr>\n",
              "    <tr>\n",
              "      <th>38158</th>\n",
              "      <td>0.930660</td>\n",
              "      <td>4601.759031</td>\n",
              "      <td>0.754161</td>\n",
              "      <td>0.292436</td>\n",
              "      <td>-0.352302</td>\n",
              "    </tr>\n",
              "    <tr>\n",
              "      <th>860</th>\n",
              "      <td>0.632656</td>\n",
              "      <td>8251.035573</td>\n",
              "      <td>0.217659</td>\n",
              "      <td>0.953890</td>\n",
              "      <td>3.389473</td>\n",
              "    </tr>\n",
              "    <tr>\n",
              "      <th>15795</th>\n",
              "      <td>0.853349</td>\n",
              "      <td>9967.005582</td>\n",
              "      <td>0.937680</td>\n",
              "      <td>0.999965</td>\n",
              "      <td>9.107156</td>\n",
              "    </tr>\n",
              "    <tr>\n",
              "      <th>56422</th>\n",
              "      <td>0.665077</td>\n",
              "      <td>7359.733291</td>\n",
              "      <td>0.012898</td>\n",
              "      <td>0.348582</td>\n",
              "      <td>6.044680</td>\n",
              "    </tr>\n",
              "  </tbody>\n",
              "</table>\n",
              "<p>46014 rows × 5 columns</p>\n",
              "</div>"
            ],
            "text/plain": [
              "       order_fulfillment_status  historical_demand  cargo_condition_status  \\\n",
              "24481                  0.882777        7205.246476                0.035134   \n",
              "58434                  0.247370        7995.285807                0.594477   \n",
              "22492                  0.756477        9932.483769                0.477842   \n",
              "39689                  0.318124        9957.979009                0.194927   \n",
              "2888                   0.916517        2104.904816                0.722561   \n",
              "...                         ...                ...                     ...   \n",
              "54343                  0.461909        9966.174332                0.076690   \n",
              "38158                  0.930660        4601.759031                0.754161   \n",
              "860                    0.632656        8251.035573                0.217659   \n",
              "15795                  0.853349        9967.005582                0.937680   \n",
              "56422                  0.665077        7359.733291                0.012898   \n",
              "\n",
              "       disruption_likelihood_score  delivery_time_deviation  \n",
              "24481                     1.000000                 2.348545  \n",
              "58434                     0.562096                 8.768822  \n",
              "22492                     0.776728                 9.828261  \n",
              "39689                     0.268893                 7.516259  \n",
              "2888                      0.999998                 1.697481  \n",
              "...                            ...                      ...  \n",
              "54343                     0.487871                 6.648762  \n",
              "38158                     0.292436                -0.352302  \n",
              "860                       0.953890                 3.389473  \n",
              "15795                     0.999965                 9.107156  \n",
              "56422                     0.348582                 6.044680  \n",
              "\n",
              "[46014 rows x 5 columns]"
            ]
          },
          "execution_count": 157,
          "metadata": {},
          "output_type": "execute_result"
        }
      ],
      "source": [
        "X_train = X_train[selected_feature]\n",
        "X_test = X_test[selected_feature]\n",
        "\n",
        "X_train"
      ]
    },
    {
      "cell_type": "code",
      "execution_count": 158,
      "metadata": {
        "colab": {
          "base_uri": "https://localhost:8080/"
        },
        "id": "FOV6_DKFXRi2",
        "outputId": "edd91d22-2ec5-441c-d1c9-b8dcc4890581"
      },
      "outputs": [
        {
          "name": "stdout",
          "output_type": "stream",
          "text": [
            "[[ 0.90255773  0.35466304 -0.90406046  1.44538499 -0.7403933 ]\n",
            " [-1.16880063  0.58662456  1.04220849 -0.06160338  0.97990811]\n",
            " [ 0.49083157  1.15540054  0.63636884  0.67702334  1.26378276]\n",
            " ...\n",
            " [ 0.08718868  0.66171463 -0.26895382  1.28670402 -0.46147845]\n",
            " [ 0.80662486  1.16553641  2.23640698  1.44526489  1.07056395]\n",
            " [ 0.19287913  0.40002153 -0.981433   -0.79638697  0.24997928]]\n"
          ]
        }
      ],
      "source": [
        "# Transform data\n",
        "# scaler = MinMaxScaler()\n",
        "scaler = StandardScaler()\n",
        "X_train_scaled = scaler.fit_transform(X_train)\n",
        "print(X_train_scaled)\n",
        "X_test_scaled = scaler.transform(X_test)"
      ]
    },
    {
      "cell_type": "code",
      "execution_count": 159,
      "metadata": {
        "id": "-Nk5D0KQXZSZ"
      },
      "outputs": [],
      "source": [
        "class DecisionNode:\n",
        "  def __init__(self, impurity=None, feature_index=None, threshold=None, left=None, right=None):\n",
        "    self.left = left\n",
        "    self.right = right\n",
        "    # The largest impurity value of this node\n",
        "    self.impurity = impurity\n",
        "    # Index of the feature which make the best fit for this node.\n",
        "    self.feature_index = feature_index\n",
        "    # The threshold value for that feature to make the split.\n",
        "    self.threshold = threshold\n",
        "\n",
        "class LeafNode:\n",
        "  def __init__(self, value):\n",
        "    self.prediction_value = value\n",
        "\n",
        "class DecisionTreeClassifierFromScratch:\n",
        "  def __init__(self, min_sample_split=3, min_impurity=1e-7, max_depth=10, criterion='gini'):\n",
        "    self.root = None\n",
        "    self.min_sample_split = min_sample_split\n",
        "    self.min_impurity = min_impurity\n",
        "    self.max_depth = max_depth\n",
        "    self.impurity_function = self._claculate_information_gain\n",
        "    if criterion == 'entropy':\n",
        "      self.criterion = self._entropy\n",
        "      self.criterion_name = criterion\n",
        "    else:\n",
        "      self.criterion = self._gini_index\n",
        "      self.criterion_name = 'gini'\n",
        "\n",
        "  def _gini_index(self, y):\n",
        "    gini = 1\n",
        "    unique_value = np.unique(y)\n",
        "    for val in unique_value:\n",
        "      # probability of that class.\n",
        "      p = np.sum(y == val) / len(y)\n",
        "      gini += -np.square(p)\n",
        "    return gini\n",
        "\n",
        "  def _entropy(self, y):\n",
        "    entropy = 0\n",
        "    unique_value = np.unique(y)\n",
        "    for val in unique_value:\n",
        "      # probability of that class.\n",
        "      p = np.sum(y == val) / len(y)\n",
        "      entropy += -p * np.log2(p)\n",
        "    return entropy\n",
        "\n",
        "  def _claculate_information_gain(self, y, y1, y2):\n",
        "    # :param y: target value.\n",
        "    # :param y1: target value for dataset in the true split/right branch.\n",
        "    # :param y2: target value for dataset in the false split/left branch.\n",
        "\n",
        "    # propobility of true values.\n",
        "    p = len(y1) / len(y)\n",
        "    info_gain = self.criterion(y) - p * self.criterion(y1) - (1 - p) * self.criterion(y2)\n",
        "    return info_gain\n",
        "\n",
        "  def _leaf_value_calculation(self, y):\n",
        "    most_frequent_label = None\n",
        "    max_count = 0\n",
        "    unique_labels = np.unique(y)\n",
        "    # iterate over all the unique values and find their frequentcy count.\n",
        "    for label in unique_labels:\n",
        "      count = len( y[y == label])\n",
        "      if count > max_count:\n",
        "        most_frequent_label = label\n",
        "        max_count = count\n",
        "    return most_frequent_label\n",
        "\n",
        "  def _partition_dataset(self, Xy, feature_index, threshold):\n",
        "    col = Xy[:, feature_index]\n",
        "    X_1 = Xy[col >= threshold]\n",
        "    X_2 = Xy[col < threshold]\n",
        "\n",
        "    return X_1, X_2\n",
        "\n",
        "  def _find_best_split(self, Xy):\n",
        "    best_question = tuple()\n",
        "    best_datasplit = {}\n",
        "    largest_impurity = 0\n",
        "    n_features = (Xy.shape[1] - 1)\n",
        "    # iterate over all the features.\n",
        "    for feature_index in range(n_features):\n",
        "      # find the unique values in that feature.\n",
        "      unique_value = set(s for s in Xy[:,feature_index])\n",
        "      # iterate over all the unique values to find the impurity.\n",
        "      for threshold in unique_value:\n",
        "        # split the dataset based on the feature value.\n",
        "        true_xy, false_xy = self._partition_dataset(Xy, feature_index, threshold)\n",
        "\n",
        "        # skip the node which has any on type 0. because this means it is already pure.\n",
        "        if len(true_xy) > 0 and len(false_xy) > 0:\n",
        "          # find the y values.\n",
        "          y = Xy[:, -1]\n",
        "          true_y = true_xy[:, -1]\n",
        "          false_y = false_xy[:, -1]\n",
        "          # calculate the impurity function.\n",
        "          impurity = self.impurity_function(y, true_y, false_y)\n",
        "\n",
        "          # if the calculated impurity is larger than save this value for comaparition (higest gain).\n",
        "          if impurity > largest_impurity:\n",
        "            largest_impurity = impurity\n",
        "            best_question = (feature_index, threshold)\n",
        "            best_datasplit = {\n",
        "              \"leftX\": true_xy[:, :n_features],   # X of left subtree\n",
        "              \"lefty\": true_xy[:, n_features:],   # y of left subtree\n",
        "              \"rightX\": false_xy[:, :n_features],  # X of right subtree\n",
        "              \"righty\": false_xy[:, n_features:]   # y of right subtree\n",
        "            }\n",
        "\n",
        "    return largest_impurity, best_question, best_datasplit\n",
        "\n",
        "  def _build_tree(self, X, y, current_depth=0):\n",
        "    n_samples , n_features = X.shape\n",
        "    # Add y as last column of X\n",
        "    Xy = np.column_stack((X, y))\n",
        "    # find the Information gain on each feature each values and return the question which splits the data very well\n",
        "    if (n_samples >= self.min_sample_split) and (current_depth < self.max_depth):\n",
        "      # find the best split/ which question split the data well.\n",
        "      impurity, quesion, best_datasplit = self._find_best_split(Xy)\n",
        "      if impurity > self.min_impurity:\n",
        "        # Build subtrees for the right and left branch.\n",
        "        true_branch = self._build_tree(best_datasplit[\"leftX\"], best_datasplit[\"lefty\"], current_depth + 1)\n",
        "        false_branch = self._build_tree(best_datasplit[\"rightX\"], best_datasplit[\"righty\"], current_depth + 1)\n",
        "        return DecisionNode(impurity=impurity, feature_index=quesion[0], threshold=quesion[1],\n",
        "                            left=true_branch, right=false_branch)\n",
        "\n",
        "    leaf_value = self._leaf_value_calculation(y)\n",
        "    return LeafNode(value=leaf_value)\n",
        "\n",
        "  def fit(self, X, y):\n",
        "    self.root = self._build_tree(X, y, current_depth=0)\n",
        "\n",
        "  def predict_sample(self, x, tree=None):\n",
        "    if isinstance(tree , LeafNode):\n",
        "      return tree.prediction_value\n",
        "\n",
        "    if tree is None:\n",
        "      tree = self.root\n",
        "    feature_value = x[tree.feature_index]\n",
        "    branch = tree.right\n",
        "\n",
        "    if isinstance(feature_value, int) or isinstance(feature_value, float):\n",
        "      if feature_value >= tree.threshold:\n",
        "        branch = tree.left\n",
        "    elif feature_value == tree.threshold:\n",
        "      branch = tree.left\n",
        "\n",
        "    return self.predict_sample(x, branch)\n",
        "\n",
        "  def predict(self, test_X):\n",
        "    x = np.array(test_X)\n",
        "    y_pred = [self.predict_sample(sample) for sample in x]\n",
        "    y_pred = np.array(y_pred)\n",
        "    return y_pred\n",
        "\n",
        "  def draw_tree(self):\n",
        "    self._draw_tree(self.root)\n",
        "\n",
        "  def _draw_tree(self, tree = None, indentation = \" \", depth=0):\n",
        "    if isinstance(tree , LeafNode):\n",
        "      print(indentation,\"The predicted value -->\", tree.prediction_value)\n",
        "      return\n",
        "    else:\n",
        "      print(indentation,f\"({depth}) Is {tree.feature_index}>={tree.threshold}?\"\n",
        "            f\": {self.criterion_name}:{tree.impurity:.2f}\")\n",
        "      if tree.left is not None:\n",
        "          print (indentation + '----- True branch :)')\n",
        "          self._draw_tree(tree.left, indentation + \"  \", depth+1)\n",
        "      if tree.right is not None:\n",
        "          print (indentation + '----- False branch :)')\n",
        "          self._draw_tree(tree.right, indentation + \"  \", depth+1)"
      ]
    },
    {
      "cell_type": "code",
      "execution_count": 160,
      "metadata": {},
      "outputs": [],
      "source": [
        "class RandomForestClassifierFromScratch:\n",
        "  def __init__(self, max_feature=None, n_trees=100, min_sample_split=2, min_impurity=1e-7, max_depth=10, criterion='gini'):\n",
        "    # Initialize the trees.\n",
        "    self.trees = []\n",
        "    for _ in range(n_trees):\n",
        "      self.trees.append(DecisionTreeClassifierFromScratch(min_sample_split=min_sample_split,min_impurity=min_impurity,\n",
        "                                                          max_depth=max_depth,criterion=criterion))\n",
        "\n",
        "    self.tree_feature_indexes = []\n",
        "    # Number of trees/estimetors.\n",
        "    self.n_estimators = n_trees\n",
        "    # How many features can be used for a tree from the whole features.\n",
        "    self.max_features = max_feature\n",
        "    # Aggication function to find the prediction.\n",
        "    self.prediction_aggrigation_calculation = self._maximum_vote_calculation\n",
        "\n",
        "  def _maximum_vote_calculation(self, y_preds):\n",
        "    # Find which prediction class has higest frequency in all tree prediction for each sample.\n",
        "    # create a empty array to store the prediction.\n",
        "    y_pred = np.empty((y_preds.shape[0], 1))\n",
        "    # iterate over all the data samples.\n",
        "    for i, sample_predictions in enumerate(y_preds):\n",
        "      y_pred[i] = np.bincount(sample_predictions.astype('int')).argmax()\n",
        "\n",
        "    return y_pred\n",
        "\n",
        "  def _make_random_subset(self, X, y, n_subsets, replacement=True):\n",
        "    # Create a random subset of dataset with/without replacement.\n",
        "    subset = []\n",
        "    # use 100% of data when replacement is true , use 50% otherwise.\n",
        "    sample_size = (X.shape[0] if replacement else (X.shape[0] // 2))\n",
        "\n",
        "    # Add y as last column of X\n",
        "    Xy = np.column_stack((X, y))\n",
        "    np.random.shuffle(Xy)\n",
        "    # Select randome subset of data with replacement.\n",
        "    for i in range(n_subsets):\n",
        "      index = np.random.choice(range(sample_size), size=np.shape(range(sample_size)), replace=replacement)\n",
        "      X = Xy[index][:, :-1]\n",
        "      y = Xy[index][: , -1]\n",
        "      subset.append({\"X\" : X, \"y\": y})\n",
        "    return subset\n",
        "\n",
        "  def fit(self, X, y):\n",
        "    # if the max_features is not given then select it as square root of no on feature availabe.\n",
        "    n_features = X.shape[1]\n",
        "    if self.max_features == None:\n",
        "      self.max_features = int(round(np.sqrt(n_features)))\n",
        "\n",
        "    # Split the dataset into number of subsets equal to n_estimators.\n",
        "    subsets = self._make_random_subset(X, y, self.n_estimators)\n",
        "\n",
        "    for i, subset in enumerate(subsets):\n",
        "      X_subset , y_subset = subset[\"X\"], subset[\"y\"]\n",
        "      # select a random sucset of features for each tree. This is called feature bagging.\n",
        "      idx = np.random.choice(range(n_features), size=self.max_features, replace=True)\n",
        "      # track this for prediction.\n",
        "      self.tree_feature_indexes.append(idx)\n",
        "      # Get the X with the selected features only.\n",
        "      X_subset = X_subset[:, idx]\n",
        "\n",
        "      # change the y_subet to i dimentional array.\n",
        "      y_subset = np.expand_dims(y_subset, axis =1)\n",
        "      # build the model with selected features and selected random subset from dataset.\n",
        "      self.trees[i].fit(X_subset, y_subset)\n",
        "\n",
        "  def predict(self, test_X):\n",
        "    y_preds = np.empty((test_X.shape[0], self.n_estimators))\n",
        "    # find the prediction from each tree for each samples\n",
        "    for i, tree in enumerate(self.trees):\n",
        "      features_index = self.tree_feature_indexes[i]\n",
        "      X_selected_features = test_X[:, features_index]\n",
        "      if isinstance(tree, DecisionTreeClassifierFromScratch):\n",
        "        y_preds[:, i] = tree.predict(X_selected_features).reshape((-1,))\n",
        "      else:\n",
        "        y_preds[:, i] = tree.predict(X_selected_features)\n",
        "    # find the aggregated output.\n",
        "    y_pred = self.prediction_aggrigation_calculation(y_preds)\n",
        "\n",
        "    return y_pred"
      ]
    },
    {
      "cell_type": "code",
      "execution_count": 161,
      "metadata": {
        "colab": {
          "base_uri": "https://localhost:8080/"
        },
        "id": "lPN8ragG21qY",
        "outputId": "08f34f8d-ca52-4442-8d0f-40e2d1246e8b"
      },
      "outputs": [
        {
          "name": "stdout",
          "output_type": "stream",
          "text": [
            "Covariance matrix \n",
            "[[ 1.00002173  0.00965947 -0.02668252 -0.02236403 -0.00125925]\n",
            " [ 0.00965947  1.00002173  0.00639183  0.01095448  0.0128173 ]\n",
            " [-0.02668252  0.00639183  1.00002173  0.02169655  0.00623606]\n",
            " [-0.02236403  0.01095448  0.02169655  1.00002173  0.01849654]\n",
            " [-0.00125925  0.0128173   0.00623606  0.01849654  1.00002173]]\n"
          ]
        }
      ],
      "source": [
        "### Start Dimension Reduction for model (use PCA from scratch) ###\n",
        "\n",
        "# First we find covariance manually or using numpy library\n",
        "\n",
        "mean_vec = np.mean(X_train_scaled, axis=0)\n",
        "cov_mat = (X_train_scaled - mean_vec).T.dot((X_train_scaled - mean_vec)) / (X_train_scaled.shape[0]-1)\n",
        "print('Covariance matrix \\n%s' %cov_mat)"
      ]
    },
    {
      "cell_type": "code",
      "execution_count": 162,
      "metadata": {
        "colab": {
          "base_uri": "https://localhost:8080/",
          "height": 665
        },
        "id": "cdzF7zHWJ7_H",
        "outputId": "f85bd665-01e3-445a-c5ca-0e79059594c4"
      },
      "outputs": [
        {
          "data": {
            "image/png": "[encoded data removed]",
            "text/plain": [
              "<Figure size 800x800 with 2 Axes>"
            ]
          },
          "metadata": {},
          "output_type": "display_data"
        }
      ],
      "source": [
        "# Visualization of Covariance Matrix\n",
        "\n",
        "plt.figure(figsize=(8,8))\n",
        "sns.heatmap(cov_mat, vmax=1, square=True,annot=True,cmap='cubehelix')\n",
        "\n",
        "plt.title('Correlation between different features')\n",
        "plt.show()"
      ]
    },
    {
      "cell_type": "code",
      "execution_count": 163,
      "metadata": {
        "colab": {
          "base_uri": "https://localhost:8080/"
        },
        "id": "XYtwG00HLkd6",
        "outputId": "a71a55ca-7888-41b8-e5f5-084364b4333d"
      },
      "outputs": [
        {
          "name": "stdout",
          "output_type": "stream",
          "text": [
            "Eigenvectors \n",
            "[[-0.49262358 -0.48956782  0.71098739  0.09785852 -0.05065576]\n",
            " [ 0.17179061 -0.6676066  -0.37095456 -0.09802916 -0.61446921]\n",
            " [ 0.54228612  0.18717239  0.39375205  0.60563731 -0.38607646]\n",
            " [ 0.57655045 -0.10986774  0.42617889 -0.67580038  0.13108798]\n",
            " [ 0.31831642 -0.5172237  -0.14219888  0.39662486  0.67351503]]\n",
            "\n",
            "Eigenvalues \n",
            "[1.05301348 1.01704604 0.96705134 0.97454963 0.98844817]\n"
          ]
        }
      ],
      "source": [
        "# Then we will calculate eigen value and eigen vector with built-in numpy function\n",
        "\n",
        "eig_vals, eig_vecs = np.linalg.eig(cov_mat)\n",
        "\n",
        "print('Eigenvectors \\n%s' %eig_vecs)\n",
        "print('\\nEigenvalues \\n%s' %eig_vals)"
      ]
    },
    {
      "cell_type": "code",
      "execution_count": 164,
      "metadata": {
        "colab": {
          "base_uri": "https://localhost:8080/"
        },
        "id": "3zTIwJ3ML-oj",
        "outputId": "dc098504-5197-4eb5-f215-7c17a5396f2e"
      },
      "outputs": [
        {
          "data": {
            "text/plain": [
              "[[np.float64(1.0530134830944142),\n",
              "  array([-0.49262358,  0.17179061,  0.54228612,  0.57655045,  0.31831642])],\n",
              " [np.float64(1.0170460444135403),\n",
              "  array([-0.48956782, -0.6676066 ,  0.18717239, -0.10986774, -0.5172237 ])],\n",
              " [np.float64(0.9884481687907852),\n",
              "  array([-0.05065576, -0.61446921, -0.38607646,  0.13108798,  0.67351503])],\n",
              " [np.float64(0.9745496289104617),\n",
              "  array([ 0.09785852, -0.09802916,  0.60563731, -0.67580038,  0.39662486])],\n",
              " [np.float64(0.9670513397333163),\n",
              "  array([ 0.71098739, -0.37095456,  0.39375205,  0.42617889, -0.14219888])]]"
            ]
          },
          "execution_count": 164,
          "metadata": {},
          "output_type": "execute_result"
        }
      ],
      "source": [
        "# After that we will make pair of eigen vector and eigen value sorted by eigen value\n",
        "\n",
        "eigen_pair = [[eig_vals[i] ,eig_vecs[:,i]] for i in range(len(eig_vals))]\n",
        "eigen_pair.sort(key=lambda x : x[0], reverse=True)\n",
        "eigen_pair"
      ]
    },
    {
      "cell_type": "code",
      "execution_count": 165,
      "metadata": {
        "colab": {
          "base_uri": "https://localhost:8080/"
        },
        "id": "xN8k19SeMrus",
        "outputId": "291560a2-b40b-478b-de00-28474e5bf5ca"
      },
      "outputs": [
        {
          "name": "stdout",
          "output_type": "stream",
          "text": [
            "Eigen Vector 0 : 21.059811969236872%\n",
            "Eigen Vector 1 : 20.340478828878265%\n",
            "Eigen Vector 2 : 19.768533746499063%\n",
            "Eigen Vector 3 : 19.490568989897454%\n",
            "Eigen Vector 4 : 19.34060646548836%\n"
          ]
        }
      ],
      "source": [
        "# Calculate importance of vector\n",
        "\n",
        "total = sum(eig_vals)\n",
        "for i, val in enumerate(eigen_pair):\n",
        "  print(f\"Eigen Vector {i} : {(val[0]/total)*100}%\")"
      ]
    },
    {
      "cell_type": "code",
      "execution_count": 166,
      "metadata": {
        "colab": {
          "base_uri": "https://localhost:8080/"
        },
        "id": "Bc73-GIINCRF",
        "outputId": "9a4ce992-3048-4641-ff73-938d1a454b94"
      },
      "outputs": [
        {
          "name": "stdout",
          "output_type": "stream",
          "text": [
            "80.66% of all information will be retain\n"
          ]
        }
      ],
      "source": [
        "# Finally we select how many Component we want (For example we want 3 component left from the original)\n",
        "\n",
        "def extractComponent(n_components, eigen_pair):\n",
        "  total = np.sum([pair[0] for pair in eigen_pair])\n",
        "  information_retain = np.sum([eigen_pair[i][0] for i in range(n_components)])\n",
        "  print(f\"{(information_retain / total) * 100:.2f}% of all information will be retain\")\n",
        "  len_max = len(eigen_pair[0][1])\n",
        "  w = np.hstack(tuple([eigen_pair[i][1].reshape(len_max,1) for i in range(n_components)]))\n",
        "  return w\n",
        "\n",
        "w = extractComponent(4, eigen_pair)"
      ]
    },
    {
      "cell_type": "code",
      "execution_count": 167,
      "metadata": {
        "colab": {
          "base_uri": "https://localhost:8080/"
        },
        "id": "xCgt-U4WNeuk",
        "outputId": "b558ab2e-5fa0-4acf-e1b6-2629146a75a1"
      },
      "outputs": [
        {
          "data": {
            "text/plain": [
              "array([[-0.49262358, -0.48956782, -0.05065576,  0.09785852],\n",
              "       [ 0.17179061, -0.6676066 , -0.61446921, -0.09802916],\n",
              "       [ 0.54228612,  0.18717239, -0.38607646,  0.60563731],\n",
              "       [ 0.57655045, -0.10986774,  0.13108798, -0.67580038],\n",
              "       [ 0.31831642, -0.5172237 ,  0.67351503,  0.39662486]])"
            ]
          },
          "execution_count": 167,
          "metadata": {},
          "output_type": "execute_result"
        }
      ],
      "source": [
        "w"
      ]
    },
    {
      "cell_type": "code",
      "execution_count": 168,
      "metadata": {
        "colab": {
          "base_uri": "https://localhost:8080/"
        },
        "id": "w8Jw9ZwDN8OZ",
        "outputId": "ec53b9a0-071c-4034-d79e-02c1556a5477"
      },
      "outputs": [
        {
          "data": {
            "text/plain": [
              "array([[-0.27629486, -0.62370598, -0.22380622, -1.76442722],\n",
              "       [ 1.51813392, -0.12441808, -0.05172103,  0.88960444],\n",
              "       [ 1.09440666, -1.62057912, -0.04058222,  0.36389285],\n",
              "       ...,\n",
              "       [ 0.51982884, -0.43747023, -0.44932437, -1.27181255],\n",
              "       [ 2.18968445, -1.46693278, -0.70997274,  0.76703178],\n",
              "       [-0.93809911, -0.58697956,  0.18730487,  0.02261526]])"
            ]
          },
          "execution_count": 168,
          "metadata": {},
          "output_type": "execute_result"
        }
      ],
      "source": [
        "# After that we can apply matrix w to X_std to reduced dimension of all feature\n",
        "\n",
        "X_train_PCA_Scratch = X_train_scaled.dot(w)\n",
        "X_test_PCA_Scratch = X_test_scaled.dot(w)\n",
        "X_train_PCA_Scratch"
      ]
    },
    {
      "cell_type": "code",
      "execution_count": 169,
      "metadata": {
        "colab": {
          "base_uri": "https://localhost:8080/"
        },
        "id": "6ZT2uQ70R4-q",
        "outputId": "84c61a1f-2185-4694-c6e2-56bef55bd87f"
      },
      "outputs": [
        {
          "ename": "KeyboardInterrupt",
          "evalue": "",
          "output_type": "error",
          "traceback": [
            "\u001b[1;31m---------------------------------------------------------------------------\u001b[0m",
            "\u001b[1;31mKeyboardInterrupt\u001b[0m                         Traceback (most recent call last)",
            "Cell \u001b[1;32mIn[169], line 36\u001b[0m\n\u001b[0;32m     32\u001b[0m y_train \u001b[38;5;241m=\u001b[39m y_train_sampled\u001b[38;5;241m.\u001b[39mcopy()\n\u001b[0;32m     33\u001b[0m \u001b[38;5;66;03m###\u001b[39;00m\n\u001b[0;32m     34\u001b[0m \n\u001b[0;32m     35\u001b[0m \u001b[38;5;66;03m# train model\u001b[39;00m\n\u001b[1;32m---> 36\u001b[0m \u001b[43mrf\u001b[49m\u001b[38;5;241;43m.\u001b[39;49m\u001b[43mfit\u001b[49m\u001b[43m(\u001b[49m\u001b[43mX_train_PCA_Scratch\u001b[49m\u001b[43m,\u001b[49m\u001b[43m \u001b[49m\u001b[43my_train\u001b[49m\u001b[43m)\u001b[49m\n\u001b[0;32m     38\u001b[0m \u001b[38;5;66;03m# Save the trained model\u001b[39;00m\n\u001b[0;32m     39\u001b[0m joblib\u001b[38;5;241m.\u001b[39mdump(rf, \u001b[38;5;124m'\u001b[39m\u001b[38;5;124mmodel_pca_randomforest.joblib\u001b[39m\u001b[38;5;124m'\u001b[39m)\n",
            "Cell \u001b[1;32mIn[160], line 65\u001b[0m, in \u001b[0;36mRandomForestClassifierFromScratch.fit\u001b[1;34m(self, X, y)\u001b[0m\n\u001b[0;32m     63\u001b[0m y_subset \u001b[38;5;241m=\u001b[39m np\u001b[38;5;241m.\u001b[39mexpand_dims(y_subset, axis \u001b[38;5;241m=\u001b[39m\u001b[38;5;241m1\u001b[39m)\n\u001b[0;32m     64\u001b[0m \u001b[38;5;66;03m# build the model with selected features and selected random subset from dataset.\u001b[39;00m\n\u001b[1;32m---> 65\u001b[0m \u001b[38;5;28;43mself\u001b[39;49m\u001b[38;5;241;43m.\u001b[39;49m\u001b[43mtrees\u001b[49m\u001b[43m[\u001b[49m\u001b[43mi\u001b[49m\u001b[43m]\u001b[49m\u001b[38;5;241;43m.\u001b[39;49m\u001b[43mfit\u001b[49m\u001b[43m(\u001b[49m\u001b[43mX_subset\u001b[49m\u001b[43m,\u001b[49m\u001b[43m \u001b[49m\u001b[43my_subset\u001b[49m\u001b[43m)\u001b[49m\n",
            "Cell \u001b[1;32mIn[159], line 132\u001b[0m, in \u001b[0;36mDecisionTreeClassifierFromScratch.fit\u001b[1;34m(self, X, y)\u001b[0m\n\u001b[0;32m    131\u001b[0m \u001b[38;5;28;01mdef\u001b[39;00m \u001b[38;5;21mfit\u001b[39m(\u001b[38;5;28mself\u001b[39m, X, y):\n\u001b[1;32m--> 132\u001b[0m   \u001b[38;5;28mself\u001b[39m\u001b[38;5;241m.\u001b[39mroot \u001b[38;5;241m=\u001b[39m \u001b[38;5;28;43mself\u001b[39;49m\u001b[38;5;241;43m.\u001b[39;49m\u001b[43m_build_tree\u001b[49m\u001b[43m(\u001b[49m\u001b[43mX\u001b[49m\u001b[43m,\u001b[49m\u001b[43m \u001b[49m\u001b[43my\u001b[49m\u001b[43m,\u001b[49m\u001b[43m \u001b[49m\u001b[43mcurrent_depth\u001b[49m\u001b[38;5;241;43m=\u001b[39;49m\u001b[38;5;241;43m0\u001b[39;49m\u001b[43m)\u001b[49m\n",
            "Cell \u001b[1;32mIn[159], line 120\u001b[0m, in \u001b[0;36mDecisionTreeClassifierFromScratch._build_tree\u001b[1;34m(self, X, y, current_depth)\u001b[0m\n\u001b[0;32m    117\u001b[0m \u001b[38;5;66;03m# find the Information gain on each feature each values and return the question which splits the data very well\u001b[39;00m\n\u001b[0;32m    118\u001b[0m \u001b[38;5;28;01mif\u001b[39;00m (n_samples \u001b[38;5;241m>\u001b[39m\u001b[38;5;241m=\u001b[39m \u001b[38;5;28mself\u001b[39m\u001b[38;5;241m.\u001b[39mmin_sample_split) \u001b[38;5;129;01mand\u001b[39;00m (current_depth \u001b[38;5;241m<\u001b[39m \u001b[38;5;28mself\u001b[39m\u001b[38;5;241m.\u001b[39mmax_depth):\n\u001b[0;32m    119\u001b[0m   \u001b[38;5;66;03m# find the best split/ which question split the data well.\u001b[39;00m\n\u001b[1;32m--> 120\u001b[0m   impurity, quesion, best_datasplit \u001b[38;5;241m=\u001b[39m \u001b[38;5;28;43mself\u001b[39;49m\u001b[38;5;241;43m.\u001b[39;49m\u001b[43m_find_best_split\u001b[49m\u001b[43m(\u001b[49m\u001b[43mXy\u001b[49m\u001b[43m)\u001b[49m\n\u001b[0;32m    121\u001b[0m   \u001b[38;5;28;01mif\u001b[39;00m impurity \u001b[38;5;241m>\u001b[39m \u001b[38;5;28mself\u001b[39m\u001b[38;5;241m.\u001b[39mmin_impurity:\n\u001b[0;32m    122\u001b[0m     \u001b[38;5;66;03m# Build subtrees for the right and left branch.\u001b[39;00m\n\u001b[0;32m    123\u001b[0m     true_branch \u001b[38;5;241m=\u001b[39m \u001b[38;5;28mself\u001b[39m\u001b[38;5;241m.\u001b[39m_build_tree(best_datasplit[\u001b[38;5;124m\"\u001b[39m\u001b[38;5;124mleftX\u001b[39m\u001b[38;5;124m\"\u001b[39m], best_datasplit[\u001b[38;5;124m\"\u001b[39m\u001b[38;5;124mlefty\u001b[39m\u001b[38;5;124m\"\u001b[39m], current_depth \u001b[38;5;241m+\u001b[39m \u001b[38;5;241m1\u001b[39m)\n",
            "Cell \u001b[1;32mIn[159], line 98\u001b[0m, in \u001b[0;36mDecisionTreeClassifierFromScratch._find_best_split\u001b[1;34m(self, Xy)\u001b[0m\n\u001b[0;32m     96\u001b[0m false_y \u001b[38;5;241m=\u001b[39m false_xy[:, \u001b[38;5;241m-\u001b[39m\u001b[38;5;241m1\u001b[39m]\n\u001b[0;32m     97\u001b[0m \u001b[38;5;66;03m# calculate the impurity function.\u001b[39;00m\n\u001b[1;32m---> 98\u001b[0m impurity \u001b[38;5;241m=\u001b[39m \u001b[38;5;28;43mself\u001b[39;49m\u001b[38;5;241;43m.\u001b[39;49m\u001b[43mimpurity_function\u001b[49m\u001b[43m(\u001b[49m\u001b[43my\u001b[49m\u001b[43m,\u001b[49m\u001b[43m \u001b[49m\u001b[43mtrue_y\u001b[49m\u001b[43m,\u001b[49m\u001b[43m \u001b[49m\u001b[43mfalse_y\u001b[49m\u001b[43m)\u001b[49m\n\u001b[0;32m    100\u001b[0m \u001b[38;5;66;03m# if the calculated impurity is larger than save this value for comaparition (higest gain).\u001b[39;00m\n\u001b[0;32m    101\u001b[0m \u001b[38;5;28;01mif\u001b[39;00m impurity \u001b[38;5;241m>\u001b[39m largest_impurity:\n",
            "Cell \u001b[1;32mIn[159], line 55\u001b[0m, in \u001b[0;36mDecisionTreeClassifierFromScratch._claculate_information_gain\u001b[1;34m(self, y, y1, y2)\u001b[0m\n\u001b[0;32m     48\u001b[0m \u001b[38;5;28;01mdef\u001b[39;00m \u001b[38;5;21m_claculate_information_gain\u001b[39m(\u001b[38;5;28mself\u001b[39m, y, y1, y2):\n\u001b[0;32m     49\u001b[0m   \u001b[38;5;66;03m# :param y: target value.\u001b[39;00m\n\u001b[0;32m     50\u001b[0m   \u001b[38;5;66;03m# :param y1: target value for dataset in the true split/right branch.\u001b[39;00m\n\u001b[0;32m     51\u001b[0m   \u001b[38;5;66;03m# :param y2: target value for dataset in the false split/left branch.\u001b[39;00m\n\u001b[0;32m     52\u001b[0m \n\u001b[0;32m     53\u001b[0m   \u001b[38;5;66;03m# propobility of true values.\u001b[39;00m\n\u001b[0;32m     54\u001b[0m   p \u001b[38;5;241m=\u001b[39m \u001b[38;5;28mlen\u001b[39m(y1) \u001b[38;5;241m/\u001b[39m \u001b[38;5;28mlen\u001b[39m(y)\n\u001b[1;32m---> 55\u001b[0m   info_gain \u001b[38;5;241m=\u001b[39m \u001b[38;5;28mself\u001b[39m\u001b[38;5;241m.\u001b[39mcriterion(y) \u001b[38;5;241m-\u001b[39m p \u001b[38;5;241m*\u001b[39m \u001b[38;5;28mself\u001b[39m\u001b[38;5;241m.\u001b[39mcriterion(y1) \u001b[38;5;241m-\u001b[39m (\u001b[38;5;241m1\u001b[39m \u001b[38;5;241m-\u001b[39m p) \u001b[38;5;241m*\u001b[39m \u001b[38;5;28;43mself\u001b[39;49m\u001b[38;5;241;43m.\u001b[39;49m\u001b[43mcriterion\u001b[49m\u001b[43m(\u001b[49m\u001b[43my2\u001b[49m\u001b[43m)\u001b[49m\n\u001b[0;32m     56\u001b[0m   \u001b[38;5;28;01mreturn\u001b[39;00m info_gain\n",
            "Cell \u001b[1;32mIn[159], line 35\u001b[0m, in \u001b[0;36mDecisionTreeClassifierFromScratch._gini_index\u001b[1;34m(self, y)\u001b[0m\n\u001b[0;32m     32\u001b[0m unique_value \u001b[38;5;241m=\u001b[39m np\u001b[38;5;241m.\u001b[39munique(y)\n\u001b[0;32m     33\u001b[0m \u001b[38;5;28;01mfor\u001b[39;00m val \u001b[38;5;129;01min\u001b[39;00m unique_value:\n\u001b[0;32m     34\u001b[0m   \u001b[38;5;66;03m# probability of that class.\u001b[39;00m\n\u001b[1;32m---> 35\u001b[0m   p \u001b[38;5;241m=\u001b[39m \u001b[43mnp\u001b[49m\u001b[38;5;241;43m.\u001b[39;49m\u001b[43msum\u001b[49m\u001b[43m(\u001b[49m\u001b[43my\u001b[49m\u001b[43m \u001b[49m\u001b[38;5;241;43m==\u001b[39;49m\u001b[43m \u001b[49m\u001b[43mval\u001b[49m\u001b[43m)\u001b[49m \u001b[38;5;241m/\u001b[39m \u001b[38;5;28mlen\u001b[39m(y)\n\u001b[0;32m     36\u001b[0m   gini \u001b[38;5;241m+\u001b[39m\u001b[38;5;241m=\u001b[39m \u001b[38;5;241m-\u001b[39mnp\u001b[38;5;241m.\u001b[39msquare(p)\n\u001b[0;32m     37\u001b[0m \u001b[38;5;28;01mreturn\u001b[39;00m gini\n",
            "File \u001b[1;32m~\\AppData\\Roaming\\Python\\Python313\\site-packages\\numpy\\_core\\fromnumeric.py:2344\u001b[0m, in \u001b[0;36m_sum_dispatcher\u001b[1;34m(a, axis, dtype, out, keepdims, initial, where)\u001b[0m\n\u001b[0;32m   2338\u001b[0m         \u001b[38;5;28;01mraise\u001b[39;00m \u001b[38;5;167;01mValueError\u001b[39;00m(\u001b[38;5;124m\"\u001b[39m\u001b[38;5;124mPassing `min` or `max` keyword argument when \u001b[39m\u001b[38;5;124m\"\u001b[39m\n\u001b[0;32m   2339\u001b[0m                          \u001b[38;5;124m\"\u001b[39m\u001b[38;5;124m`a_min` and `a_max` are provided is forbidden.\u001b[39m\u001b[38;5;124m\"\u001b[39m)\n\u001b[0;32m   2341\u001b[0m     \u001b[38;5;28;01mreturn\u001b[39;00m _wrapfunc(a, \u001b[38;5;124m'\u001b[39m\u001b[38;5;124mclip\u001b[39m\u001b[38;5;124m'\u001b[39m, a_min, a_max, out\u001b[38;5;241m=\u001b[39mout, \u001b[38;5;241m*\u001b[39m\u001b[38;5;241m*\u001b[39mkwargs)\n\u001b[1;32m-> 2344\u001b[0m \u001b[38;5;28;01mdef\u001b[39;00m \u001b[38;5;21m_sum_dispatcher\u001b[39m(a, axis\u001b[38;5;241m=\u001b[39m\u001b[38;5;28;01mNone\u001b[39;00m, dtype\u001b[38;5;241m=\u001b[39m\u001b[38;5;28;01mNone\u001b[39;00m, out\u001b[38;5;241m=\u001b[39m\u001b[38;5;28;01mNone\u001b[39;00m, keepdims\u001b[38;5;241m=\u001b[39m\u001b[38;5;28;01mNone\u001b[39;00m,\n\u001b[0;32m   2345\u001b[0m                     initial\u001b[38;5;241m=\u001b[39m\u001b[38;5;28;01mNone\u001b[39;00m, where\u001b[38;5;241m=\u001b[39m\u001b[38;5;28;01mNone\u001b[39;00m):\n\u001b[0;32m   2346\u001b[0m     \u001b[38;5;28;01mreturn\u001b[39;00m (a, out)\n\u001b[0;32m   2349\u001b[0m \u001b[38;5;129m@array_function_dispatch\u001b[39m(_sum_dispatcher)\n\u001b[0;32m   2350\u001b[0m \u001b[38;5;28;01mdef\u001b[39;00m \u001b[38;5;21msum\u001b[39m(a, axis\u001b[38;5;241m=\u001b[39m\u001b[38;5;28;01mNone\u001b[39;00m, dtype\u001b[38;5;241m=\u001b[39m\u001b[38;5;28;01mNone\u001b[39;00m, out\u001b[38;5;241m=\u001b[39m\u001b[38;5;28;01mNone\u001b[39;00m, keepdims\u001b[38;5;241m=\u001b[39mnp\u001b[38;5;241m.\u001b[39m_NoValue,\n\u001b[0;32m   2351\u001b[0m         initial\u001b[38;5;241m=\u001b[39mnp\u001b[38;5;241m.\u001b[39m_NoValue, where\u001b[38;5;241m=\u001b[39mnp\u001b[38;5;241m.\u001b[39m_NoValue):\n",
            "\u001b[1;31mKeyboardInterrupt\u001b[0m: "
          ]
        }
      ],
      "source": [
        "# train model with reduced features (we use 5 feature previously)\n",
        "# and save model as joblib file\n",
        "\n",
        "import joblib\n",
        "rf = RandomForestClassifierFromScratch(n_trees=50, max_depth=10)\n",
        "\n",
        "### remove later (after run anything fine)\n",
        "# Define the maximum number of samples per class\n",
        "max_samples_per_class = 2500\n",
        "\n",
        "# Get the indices of each class\n",
        "class_0_indices = np.where(y_train == 0)[0]\n",
        "class_1_indices = np.where(y_train == 1)[0]\n",
        "class_2_indices = np.where(y_train == 2)[0]\n",
        "\n",
        "# Sample randomly from each class, ensuring no more than 3000 samples per class\n",
        "class_0_sampled = np.random.choice(class_0_indices, min(max_samples_per_class, len(class_0_indices)), replace=False)\n",
        "class_1_sampled = np.random.choice(class_1_indices, min(max_samples_per_class, len(class_1_indices)), replace=False)\n",
        "class_2_sampled = np.random.choice(class_2_indices, min(max_samples_per_class, len(class_2_indices)), replace=False)\n",
        "\n",
        "# Combine the indices of the sampled classes\n",
        "sampled_indices = np.concatenate([class_0_sampled, class_1_sampled, class_2_sampled])\n",
        "\n",
        "# Ensure you are selecting the correct rows from DataFrame using .iloc\n",
        "X_train_sampled = X_train_PCA_Scratch[sampled_indices]\n",
        "y_train_sampled = y_train.iloc[sampled_indices]  # If y_train is a Pandas Series, use .iloc as well\n",
        "\n",
        "# Now, X_train_sampled and y_train_sampled contain 3000 samples per class\n",
        "# print(f\"Samples per class: {np.bincount(y_train_sampled)}\")\n",
        "\n",
        "X_train_PCA_Scratch = X_train_sampled.copy()\n",
        "y_train = y_train_sampled.copy()\n",
        "###\n",
        "\n",
        "# train model\n",
        "rf.fit(X_train_PCA_Scratch, y_train)\n",
        "\n",
        "# Save the trained model\n",
        "joblib.dump(rf, 'model_pca_randomforest.joblib')"
      ]
    },
    {
      "cell_type": "code",
      "execution_count": null,
      "metadata": {
        "id": "Y57MJXKiXEfc"
      },
      "outputs": [
        {
          "name": "stdout",
          "output_type": "stream",
          "text": [
            "Samples per class: [2500 2500 2500]\n",
            "Samples per class: [5011 5181 5147]\n"
          ]
        }
      ],
      "source": [
        "print(f\"Samples per class: {np.bincount(y_train_sampled)}\")\n",
        "print(f\"Samples per class: {np.bincount(y_test)}\")\n",
        "# xxx"
      ]
    },
    {
      "cell_type": "code",
      "execution_count": null,
      "metadata": {
        "id": "3hdYh__Curo7"
      },
      "outputs": [],
      "source": [
        "# load model to use for evaluation\n",
        "path_to_model = './model_pca_randomforest.joblib'\n",
        "model_pca_rf_loaded = joblib.load(path_to_model)\n",
        "y_pred = model_pca_rf_loaded.predict(X_test_PCA_Scratch)"
      ]
    },
    {
      "cell_type": "code",
      "execution_count": null,
      "metadata": {
        "colab": {
          "base_uri": "https://localhost:8080/"
        },
        "id": "IBl_0Zba4pqR",
        "outputId": "840bdd65-e1f7-4565-c37d-77e88a2c8f34"
      },
      "outputs": [
        {
          "name": "stdout",
          "output_type": "stream",
          "text": [
            "classification report : \n",
            "              precision    recall  f1-score   support\n",
            "\n",
            "           0       0.82      0.91      0.87      5011\n",
            "           1       0.67      0.90      0.77      5181\n",
            "           2       0.72      0.40      0.51      5147\n",
            "\n",
            "    accuracy                           0.74     15339\n",
            "   macro avg       0.74      0.74      0.72     15339\n",
            "weighted avg       0.74      0.74      0.71     15339\n",
            "\n",
            "Confusion Matrix : \n",
            "[[4563  102  346]\n",
            " [  70 4660  451]\n",
            " [ 905 2185 2057]]\n"
          ]
        }
      ],
      "source": [
        "# Begin Evaluation (classification)\n",
        "from sklearn.metrics import accuracy_score, classification_report, confusion_matrix, precision_score, recall_score, f1_score\n",
        "\n",
        "# Classification Report\n",
        "print(\"classification report : \")\n",
        "print(classification_report(y_test, y_pred))\n",
        "\n",
        "# Confusion Matrix\n",
        "cm = confusion_matrix(y_test, y_pred )\n",
        "print(\"Confusion Matrix : \")\n",
        "print(cm)"
      ]
    },
    {
      "cell_type": "code",
      "execution_count": null,
      "metadata": {
        "colab": {
          "base_uri": "https://localhost:8080/"
        },
        "id": "RlvyVcbGZaF-",
        "outputId": "05b3224d-1bbd-4af7-efa8-8cccb2afbbf2"
      },
      "outputs": [
        {
          "name": "stdout",
          "output_type": "stream",
          "text": [
            "Accuracy : 0.7354\n",
            "Precision (Macro): 0.7385\n",
            "Sensitivity (Recall, Macro): 0.7366\n",
            "Specificity (Macro): 0.8674\n",
            "F1-Score (Macro): 0.7159\n"
          ]
        }
      ],
      "source": [
        "# Precision, Recall (Sensitivity), and F1-score for multiclass\n",
        "accuracy = accuracy_score(y_test, y_pred)\n",
        "precision = precision_score(y_test, y_pred, average=\"macro\")  # Precision (average the results across all classes)\n",
        "recall = recall_score(y_test, y_pred, average=\"macro\")  # Sensitivity (average the results across all classes)\n",
        "f1 = f1_score(y_test, y_pred, average=\"macro\")  # F1-score (average the results across all classes)\n",
        "\n",
        "# Compute Specificity for each class\n",
        "specificity_list = []\n",
        "for i in range(len(cm)):\n",
        "    TP = cm[i, i]\n",
        "    FN = sum(cm[i, :]) - TP\n",
        "    FP = sum(cm[:, i]) - TP\n",
        "    TN = np.sum(cm) - (TP + FN + FP)\n",
        "\n",
        "    specificity = TN / (TN + FP) if (TN + FP) != 0 else 0\n",
        "    specificity_list.append(specificity)\n",
        "\n",
        "specificity_macro = np.mean(specificity_list)  # Macro-averaged specificity\n",
        "\n",
        "# Metrics (averages scores equally across all classes)\n",
        "print(f'Accuracy : {accuracy:.4f}')\n",
        "print(f'Precision (Macro): {precision:.4f}')\n",
        "print(f'Sensitivity (Recall, Macro): {recall:.4f}')\n",
        "print(f'Specificity (Macro): {specificity_macro:.4f}')\n",
        "print(f'F1-Score (Macro): {f1:.4f}')"
      ]
    },
    {
      "cell_type": "code",
      "execution_count": null,
      "metadata": {
        "colab": {
          "base_uri": "https://localhost:8080/",
          "height": 564
        },
        "id": "37r5-AMwJ_ea",
        "outputId": "6904cbde-6dc9-49ac-eef1-e868057e026d"
      },
      "outputs": [
        {
          "data": {
            "image/png": "[encoded data removed]",
            "text/plain": [
              "<Figure size 800x600 with 1 Axes>"
            ]
          },
          "metadata": {},
          "output_type": "display_data"
        }
      ],
      "source": [
        "# Compute ROC curve and ROC AUC for each class\n",
        "from sklearn.metrics import roc_curve, auc\n",
        "from sklearn.preprocessing import label_binarize\n",
        "from itertools import cycle\n",
        "\n",
        "# Binarize the labels for multi-class ROC\n",
        "# In the case of multiclass classification, a notion of TPR or FPR is obtained only after binarizing the output\n",
        "y_test_bin = label_binarize(y_test, classes=np.unique(y_test))\n",
        "y_pred_bin = label_binarize(y_pred, classes=np.unique(y_test))\n",
        "\n",
        "n_classes = y_test_bin.shape[1]\n",
        "# Compute ROC curve and AUC for each class\n",
        "fpr, tpr, roc_auc = {}, {}, {}\n",
        "\n",
        "for i in range(n_classes):\n",
        "    fpr[i], tpr[i], _ = roc_curve(y_test_bin[:, i], y_pred_bin[:, i])\n",
        "    roc_auc[i] = auc(fpr[i], tpr[i])\n",
        "\n",
        "# Plot ROC Curve\n",
        "plt.figure(figsize=(8, 6))\n",
        "colors = cycle([\"blue\", \"red\", \"green\"])\n",
        "for i, color in zip(range(n_classes), colors):\n",
        "    plt.plot(fpr[i], tpr[i], color=color, lw=2, label=f'ROC curve for Class {i} (AUC = {roc_auc[i]:.2f})')\n",
        "\n",
        "plt.plot([0, 1], [0, 1], 'k--', lw=2)  # Diagonal line\n",
        "plt.xlim([0.0, 1.0])\n",
        "plt.ylim([0.0, 1.05])\n",
        "plt.xlabel('False Positive Rate')\n",
        "plt.ylabel('True Positive Rate')\n",
        "plt.title('ROC Curve for Risk Classification(Multi-Class)')\n",
        "plt.legend(loc=\"lower right\")\n",
        "plt.show()"
      ]
    },
    {
      "cell_type": "code",
      "execution_count": null,
      "metadata": {},
      "outputs": [],
      "source": []
    }
  ],
  "metadata": {
    "colab": {
      "provenance": []
    },
    "kernelspec": {
      "display_name": "Python 3",
      "name": "python3"
    },
    "language_info": {
      "codemirror_mode": {
        "name": "ipython",
        "version": 3
      },
      "file_extension": ".py",
      "mimetype": "text/x-python",
      "name": "python",
      "nbconvert_exporter": "python",
      "pygments_lexer": "ipython3",
      "version": "3.13.0"
    }
  },
  "nbformat": 4,
  "nbformat_minor": 0
}
